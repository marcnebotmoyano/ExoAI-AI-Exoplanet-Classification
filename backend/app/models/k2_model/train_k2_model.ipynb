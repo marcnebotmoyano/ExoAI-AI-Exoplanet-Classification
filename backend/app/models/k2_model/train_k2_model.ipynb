{
 "cells": [
  {
   "cell_type": "code",
   "execution_count": 2,
   "id": "89b645ba",
   "metadata": {},
   "outputs": [],
   "source": [
    "import pandas as pd\n",
    "from sklearn.model_selection import train_test_split\n",
    "from sklearn.preprocessing import StandardScaler\n",
    "\n",
    "df = pd.read_csv(\"K2_dataset.csv\")\n",
    "\n",
    "X = df.drop(columns=[\"pl_name\", \"target\"])\n",
    "y = df[\"target\"]\n",
    "\n",
    "X_train, X_test, y_train, y_test = train_test_split(X, y, test_size=0.2, stratify=y, random_state=42)\n",
    "\n",
    "scaler = StandardScaler()\n",
    "X_train_scaled = scaler.fit_transform(X_train)\n",
    "X_test_scaled = scaler.transform(X_test)\n"
   ]
  },
  {
   "cell_type": "code",
   "execution_count": 3,
   "id": "37d74899",
   "metadata": {},
   "outputs": [
    {
     "name": "stdout",
     "output_type": "stream",
     "text": [
      "[[ 88  17   4]\n",
      " [  4 208   0]\n",
      " [  6   4  28]]\n",
      "              precision    recall  f1-score   support\n",
      "\n",
      "           0       0.90      0.81      0.85       109\n",
      "           1       0.91      0.98      0.94       212\n",
      "           2       0.88      0.74      0.80        38\n",
      "\n",
      "    accuracy                           0.90       359\n",
      "   macro avg       0.89      0.84      0.86       359\n",
      "weighted avg       0.90      0.90      0.90       359\n",
      "\n"
     ]
    }
   ],
   "source": [
    "from sklearn.ensemble import RandomForestClassifier\n",
    "from sklearn.metrics import classification_report, confusion_matrix\n",
    "\n",
    "rf = RandomForestClassifier(\n",
    "    n_estimators=400,\n",
    "    max_depth=15,\n",
    "    class_weight=\"balanced_subsample\",\n",
    "    random_state=42,\n",
    "    n_jobs=-1\n",
    ")\n",
    "rf.fit(X_train, y_train)\n",
    "\n",
    "y_pred = rf.predict(X_test)\n",
    "\n",
    "print(confusion_matrix(y_test, y_pred))\n",
    "print(classification_report(y_test, y_pred))\n"
   ]
  },
  {
   "cell_type": "code",
   "execution_count": 4,
   "id": "12656e4a",
   "metadata": {},
   "outputs": [
    {
     "name": "stdout",
     "output_type": "stream",
     "text": [
      "              precision    recall  f1-score   support\n",
      "\n",
      "           0       0.91      0.80      0.85       109\n",
      "           1       0.91      0.98      0.94       212\n",
      "           2       0.89      0.84      0.86        38\n",
      "\n",
      "    accuracy                           0.91       359\n",
      "   macro avg       0.90      0.87      0.89       359\n",
      "weighted avg       0.91      0.91      0.91       359\n",
      "\n"
     ]
    }
   ],
   "source": [
    "from xgboost import XGBClassifier\n",
    "\n",
    "xgb = XGBClassifier(\n",
    "    n_estimators=600,\n",
    "    learning_rate=0.03,\n",
    "    max_depth=8,\n",
    "    subsample=0.8,\n",
    "    colsample_bytree=0.8,\n",
    "    eval_metric=\"mlogloss\",\n",
    "    random_state=42\n",
    ")\n",
    "xgb.fit(X_train, y_train)\n",
    "\n",
    "y_pred_xgb = xgb.predict(X_test)\n",
    "print(classification_report(y_test, y_pred_xgb))\n"
   ]
  },
  {
   "cell_type": "code",
   "execution_count": 5,
   "id": "03aad9fc",
   "metadata": {},
   "outputs": [
    {
     "data": {
      "image/png": "[encoded data removed]",
      "text/plain": [
       "<Figure size 640x480 with 1 Axes>"
      ]
     },
     "metadata": {},
     "output_type": "display_data"
    }
   ],
   "source": [
    "import matplotlib.pyplot as plt\n",
    "import numpy as np\n",
    "\n",
    "importances = rf.feature_importances_\n",
    "indices = np.argsort(importances)[-15:]  # Top 15\n",
    "plt.barh(range(len(indices)), importances[indices])\n",
    "plt.yticks(range(len(indices)), X.columns[indices])\n",
    "plt.title(\"Top 15 Feature Importances from Random Forest\")\n",
    "plt.show()\n"
   ]
  },
  {
   "cell_type": "code",
   "execution_count": 6,
   "id": "16cd754d",
   "metadata": {},
   "outputs": [
    {
     "name": "stdout",
     "output_type": "stream",
     "text": [
      "              precision    recall  f1-score   support\n",
      "\n",
      "           0       0.88      0.83      0.86       109\n",
      "           1       0.93      0.96      0.94       212\n",
      "           2       0.86      0.82      0.84        38\n",
      "\n",
      "    accuracy                           0.91       359\n",
      "   macro avg       0.89      0.87      0.88       359\n",
      "weighted avg       0.91      0.91      0.91       359\n",
      "\n",
      "Accuracy del stacking: 0.9081\n"
     ]
    }
   ],
   "source": [
    "from sklearn.ensemble import StackingClassifier\n",
    "from sklearn.linear_model import LogisticRegression\n",
    "\n",
    "stack = StackingClassifier(\n",
    "    estimators=[\n",
    "        (\"rf\", RandomForestClassifier(n_estimators=300, max_depth=12)),\n",
    "        (\"xgb\", XGBClassifier(n_estimators=500, max_depth=8))\n",
    "    ],\n",
    "    final_estimator=LogisticRegression(max_iter=1000),\n",
    "    n_jobs=-1\n",
    ")\n",
    "\n",
    "from sklearn.metrics import accuracy_score\n",
    "\n",
    "stack.fit(X_train_scaled, y_train)\n",
    "y_pred_stack = stack.predict(X_test_scaled)\n",
    "\n",
    "accuracy = accuracy_score(y_test, y_pred_stack)\n",
    "print(classification_report(y_test, y_pred_stack))\n",
    "print(f\"Accuracy del stacking: {accuracy:.4f}\")\n",
    "\n",
    "stack.feature_names_in_ = X.columns.tolist()\n",
    "\n"
   ]
  },
  {
   "cell_type": "code",
   "execution_count": 7,
   "id": "ec387a84",
   "metadata": {},
   "outputs": [
    {
     "name": "stdout",
     "output_type": "stream",
     "text": [
      "              precision    recall  f1-score   support\n",
      "\n",
      "           0       0.88      0.83      0.85       109\n",
      "           1       0.92      0.97      0.94       212\n",
      "           2       0.86      0.79      0.82        38\n",
      "\n",
      "    accuracy                           0.91       359\n",
      "   macro avg       0.89      0.86      0.87       359\n",
      "weighted avg       0.90      0.91      0.90       359\n",
      "\n"
     ]
    }
   ],
   "source": [
    "from sklearn.ensemble import StackingClassifier\n",
    "from sklearn.linear_model import LogisticRegression\n",
    "\n",
    "stack = StackingClassifier(\n",
    "    estimators=[\n",
    "        (\"rf\", RandomForestClassifier(n_estimators=300, max_depth=12)),\n",
    "        (\"xgb\", XGBClassifier(n_estimators=500, max_depth=8))\n",
    "    ],\n",
    "    final_estimator=LogisticRegression(max_iter=1000),\n",
    "    n_jobs=-1\n",
    ")\n",
    "\n",
    "stack.fit(X_train_scaled, y_train)\n",
    "y_pred_stack = stack.predict(X_test_scaled)\n",
    "print(classification_report(y_test, y_pred_stack))\n"
   ]
  },
  {
   "cell_type": "code",
   "execution_count": 9,
   "id": "99fadbb8",
   "metadata": {},
   "outputs": [
    {
     "name": "stdout",
     "output_type": "stream",
     "text": [
      "✅ Modelo guardado correctamente (accuracy = 0.9081)\n"
     ]
    }
   ],
   "source": [
    "import joblib\n",
    "\n",
    "model_accuracy = accuracy\n",
    "\n",
    "stack.feature_names_in_ = X.columns.tolist()\n",
    "stack.accuracy_ = model_accuracy\n",
    "\n",
    "joblib.dump(stack, \"k2_stacking_classifier.pkl\")\n",
    "joblib.dump(scaler, \"k2_scaler.pkl\")\n",
    "\n",
    "print(f\"Modelo guardado correctamente (accuracy = {model_accuracy:.4f})\")\n"
   ]
  }
 ],
 "metadata": {
  "kernelspec": {
   "display_name": "base",
   "language": "python",
   "name": "python3"
  },
  "language_info": {
   "codemirror_mode": {
    "name": "ipython",
    "version": 3
   },
   "file_extension": ".py",
   "mimetype": "text/x-python",
   "name": "python",
   "nbconvert_exporter": "python",
   "pygments_lexer": "ipython3",
   "version": "3.13.5"
  }
 },
 "nbformat": 4,
 "nbformat_minor": 5
}
